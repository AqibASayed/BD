{
  "cells": [
    {
      "cell_type": "code",
      "source": [
        "from collections import defaultdict\n",
        "from itertools import combinations\n",
        "\n",
        "def pcy_algorithm(transactions, support_threshold, hash_table_size):\n",
        "    # First pass: Count the occurrences of each item\n",
        "    item_counts = defaultdict(int)\n",
        "    for transaction in transactions:\n",
        "        for item in transaction:\n",
        "            item_counts[item] += 1\n",
        "\n",
        "    # Second pass: Filter infrequent items\n",
        "    frequent_items = set()\n",
        "    for item, count in item_counts.items():\n",
        "        if count >= support_threshold:\n",
        "            frequent_items.add(item)\n",
        "\n",
        "    # Third pass: Generate hash table and count item pairs\n",
        "    hash_table = [0] * hash_table_size\n",
        "    item_pairs_counts = defaultdict(int)\n",
        "    for transaction in transactions:\n",
        "        frequent_items_in_transaction = [item for item in transaction if item in frequent_items]\n",
        "        frequent_items_in_transaction.sort()\n",
        "        pairs = combinations(frequent_items_in_transaction, 2)\n",
        "        for pair in pairs:\n",
        "            hash_value = (hash(pair) % hash_table_size)\n",
        "            hash_table[hash_value] += 1\n",
        "            item_pairs_counts[pair] += 1\n",
        "\n",
        "    # Fourth pass: Generate frequent itemsets\n",
        "    frequent_itemsets = []\n",
        "    for item_pair, count in item_pairs_counts.items():\n",
        "        if count >= support_threshold:\n",
        "            frequent_itemsets.append((item_pair, count))\n",
        "\n",
        "    return frequent_itemsets\n",
        "\n",
        "\n",
        "# Example usage\n",
        "transactions = [\n",
        "    [1, 2, 3, 4],\n",
        "    [1, 2, 4],\n",
        "    [1, 2],\n",
        "    [2, 3, 4],\n",
        "    [2, 3],\n",
        "    [3, 4],\n",
        "    [2, 4]\n",
        "]\n",
        "\n",
        "support_threshold = 3\n",
        "hash_table_size = 10\n",
        "\n",
        "frequent_itemsets = pcy_algorithm(transactions, support_threshold, hash_table_size)\n",
        "\n",
        "# Print frequent itemsets\n",
        "for itemset, count in frequent_itemsets:\n",
        "    print(f\"Itemset: {itemset}, Count: {count}\")\n"
      ],
      "metadata": {
        "id": "NaC5kIqfZom6",
        "outputId": "bad9d0c8-d570-41dd-c09e-3fd3cff4abf3",
        "colab": {
          "base_uri": "https://localhost:8080/"
        }
      },
      "execution_count": null,
      "outputs": [
        {
          "output_type": "stream",
          "name": "stdout",
          "text": [
            "Itemset: (1, 2), Count: 3\n",
            "Itemset: (2, 3), Count: 3\n",
            "Itemset: (2, 4), Count: 4\n",
            "Itemset: (3, 4), Count: 3\n"
          ]
        }
      ]
    }
  ],
  "metadata": {
    "colab": {
      "toc_visible": true,
      "provenance": []
    },
    "kernelspec": {
      "display_name": "Python 3",
      "name": "python3"
    }
  },
  "nbformat": 4,
  "nbformat_minor": 0
}